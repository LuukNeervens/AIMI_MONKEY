{
 "cells": [
  {
   "cell_type": "markdown",
   "id": "7c8ce434-1600-4a41-8b0c-e6cfefc780e1",
   "metadata": {},
   "source": [
    "# Imports\n"
   ]
  },
  {
   "cell_type": "code",
   "execution_count": null,
   "id": "f97a5615",
   "metadata": {
    "execution": {
     "iopub.execute_input": "2025-06-01T13:20:55.387851Z",
     "iopub.status.busy": "2025-06-01T13:20:55.387125Z",
     "iopub.status.idle": "2025-06-01T13:20:55.392196Z",
     "shell.execute_reply": "2025-06-01T13:20:55.391601Z",
     "shell.execute_reply.started": "2025-06-01T13:20:55.387825Z"
    },
    "trusted": true
   },
   "outputs": [],
   "source": [
    "import gc\n",
    "import glob\n",
    "import json\n",
    "import os\n",
    "import pickle\n",
    "import random\n",
    "import shutil\n",
    "from pathlib import Path\n",
    "\n",
    "import matplotlib.pyplot as plt\n",
    "import numpy as np\n",
    "from PIL import Image, ImageDraw, ImageFont\n",
    "from tqdm import tqdm\n",
    "\n",
    "import torch\n",
    "from torch.utils.data import Dataset, DataLoader, random_split\n",
    "import torchvision\n",
    "import torchvision.transforms as T\n",
    "from torchvision import transforms\n",
    "from torchvision.models.detection import FasterRCNN_ResNet50_FPN_Weights\n",
    "from torchvision.models.detection.faster_rcnn import FastRCNNPredictor\n",
    "\n",
    "# from kaggle_secrets import UserSecretsClient"
   ]
  },
  {
   "cell_type": "markdown",
   "id": "8566c7ec-67a0-45db-bca7-90ab36b8309c",
   "metadata": {},
   "source": [
    "# Global Variables"
   ]
  },
  {
   "cell_type": "code",
   "execution_count": 3,
   "id": "a1a58819-bc9c-40e7-b309-a03b793a59e8",
   "metadata": {
    "execution": {
     "iopub.execute_input": "2025-06-01T12:45:07.539407Z",
     "iopub.status.busy": "2025-06-01T12:45:07.538665Z",
     "iopub.status.idle": "2025-06-01T12:45:07.544417Z",
     "shell.execute_reply": "2025-06-01T12:45:07.543659Z",
     "shell.execute_reply.started": "2025-06-01T12:45:07.539382Z"
    },
    "trusted": true
   },
   "outputs": [],
   "source": [
    "SCORE_THRES = 0.55 # minimum confidence score prediction should have\n",
    "IOU_THRES = 0.5 # minimum overlap for bounding boxes to classify as correct pred\n",
    "\n",
    "TRAIN_DIR = \"/kaggle/input/train-patches/patches_with_annotations\"\n",
    "TEST_IMAGES_DIR = \"/kaggle/input/test-patches/test_patches_with_annotations/cpg/images\"\n",
    "TEST_ANNS_DIR   = \"/kaggle/input/test-patches/test_patches_with_annotations/cpg/annotations\"\n",
    "OUTPUT_VIS_DIR = \"detection_visuals_new\"\n",
    "\n",
    "# A: train on pas-original & pas-diagnostic, test on pas-cpg\n",
    "# B: train on pas-original & pas-diagnostic, finetune on pas-cpg, test on pas-cpg\n",
    "# C: train on pas-cpg, test on pas-cpg\n",
    "TRAIN_MODEL = 'A' \n",
    "\n",
    "TRAIN_DATASET_FRAC = 0.5 if TRAIN_MODEL == 'A' else 0.7 # modelA = 0.5, modelC = 0.7\n",
    "TEST_DATASET_FRAC = 0.5\n",
    "\n",
    "VERBOSE = True\n",
    "\n",
    "device = torch.device('cuda') if torch.cuda.is_available() else torch.device('cpu')\n",
    "\n",
    "# Trained model locations for later retrieval\n",
    "modelA_path = \"/kaggle/input/modela_og/pytorch/default/1/FasterRCNN_ModelA_0.5.pth\"\n",
    "modelB_path = \"/kaggle/input/modelb/pytorch/default/1/FasterRCNN_modelB_0.7.pth\"\n",
    "modelC_path = \"/kaggle/input/modelc/pytorch/default/1/FasterRCNN_ModelC_0.7.pth\""
   ]
  },
  {
   "cell_type": "markdown",
   "id": "606df550",
   "metadata": {},
   "source": [
    "# Helper functions"
   ]
  },
  {
   "cell_type": "code",
   "execution_count": 4,
   "id": "0bbf7b29",
   "metadata": {
    "execution": {
     "iopub.execute_input": "2025-06-01T12:45:09.953425Z",
     "iopub.status.busy": "2025-06-01T12:45:09.953102Z",
     "iopub.status.idle": "2025-06-01T12:45:09.966140Z",
     "shell.execute_reply": "2025-06-01T12:45:09.965580Z",
     "shell.execute_reply.started": "2025-06-01T12:45:09.953388Z"
    },
    "trusted": true
   },
   "outputs": [],
   "source": [
    "class InflammatoryCellsDataset(Dataset):\n",
    "    def __init__(self, root_dir, splits, transforms=None): #annotations_dir,\n",
    "        self.root_dir = Path(root_dir)\n",
    "        #self.annotations_dir = Path(annotations_dir)\n",
    "        self.splits = splits\n",
    "        self.transforms = transforms\n",
    "\n",
    "        self.image_paths = []\n",
    "        self.annotation_paths = []\n",
    "\n",
    "        for split in splits:\n",
    "            image_dir = self.root_dir / split / \"images\"\n",
    "            ann_dir = self.root_dir / split / \"annotations\"\n",
    "\n",
    "            for image_path in image_dir.glob(\"*.png\"):\n",
    "                ann_path = ann_dir / image_path.name.replace(\".png\", \".json\")\n",
    "                if ann_path.exists():\n",
    "                    # Load the annotation and check for non-empty bbox list\n",
    "                    with open(ann_path) as f:\n",
    "                        ann_data = json.load(f)\n",
    "                    if not ann_data:  # skip empty annotation files\n",
    "                        continue\n",
    "                        \n",
    "                    self.image_paths.append(image_path)\n",
    "                    self.annotation_paths.append(ann_path)\n",
    "\n",
    "        assert len(self.image_paths) == len(self.annotation_paths), \"Mismatch in images and annotations\"\n",
    "\n",
    "    def __len__(self):\n",
    "        return len(self.image_paths)\n",
    "\n",
    "    def __getitem__(self, idx):\n",
    "        # Load image\n",
    "        img_path = self.image_paths[idx]\n",
    "        ann_path = self.annotation_paths[idx]\n",
    "        image = Image.open(img_path).convert(\"RGB\")\n",
    "\n",
    "        # Load annotations\n",
    "        with open(ann_path) as f:\n",
    "            ann_data = json.load(f)\n",
    "\n",
    "        boxes = []\n",
    "        labels = []\n",
    "\n",
    "        for item in ann_data:\n",
    "            boxes.append(item[\"bbox\"])\n",
    "            labels.append(1)  # Binary label: 1 = inflammatory cell\n",
    "\n",
    "        boxes = torch.as_tensor(boxes, dtype=torch.float32)\n",
    "        labels = torch.as_tensor(labels, dtype=torch.int64)\n",
    "\n",
    "        target = {\n",
    "            \"boxes\": boxes,\n",
    "            \"labels\": labels,\n",
    "            \"image_id\": torch.tensor([idx])\n",
    "        }\n",
    "\n",
    "        if self.transforms:\n",
    "            image = self.transforms(image)\n",
    "\n",
    "        return image, target\n",
    "\n",
    "def collate_fn(batch):\n",
    "    return tuple(zip(*batch))\n",
    "\n",
    "\n",
    "def get_transform(train):\n",
    "    transforms = []\n",
    "    transforms.append(T.PILToTensor())\n",
    "    transforms.append(T.ConvertImageDtype(torch.float32))\n",
    "    if train:\n",
    "        # add data augmentation\n",
    "        transforms.append(T.RandomHorizontalFlip(0.5))\n",
    "    return T.Compose(transforms)\n",
    "\n",
    "\n",
    "def get_model(num_classes=2, predownload=False):\n",
    "    if predownload: # when internet connection not working in Kaggle\n",
    "        print('loading model with manual weight input')\n",
    "        # Manually load model without downloading weights\n",
    "        model = torchvision.models.detection.fasterrcnn_resnet50_fpn(weights=None, weights_backbone=None)\n",
    "        \n",
    "        # Load the weights from the file\n",
    "        state_dict = torch.load(\"/kaggle/input/pretrained-fasterrcnn/pytorch/default/1/fasterrcnn_resnet50_fpn_coco-258fb6c6.pth\")\n",
    "        model.load_state_dict(state_dict)\n",
    "    else:  \n",
    "        print('loading model with automatic weight input')\n",
    "        # Load model including downloading weights\n",
    "        model = torchvision.models.detection.fasterrcnn_resnet50_fpn(weights=FasterRCNN_ResNet50_FPN_Weights.DEFAULT)\n",
    "        \n",
    "    # get number of input features for the classifier\n",
    "    in_features = model.roi_heads.box_predictor.cls_score.in_features\n",
    "    # replace the pre-trained head with a new one\n",
    "    model.roi_heads.box_predictor = FastRCNNPredictor(in_features, num_classes)\n",
    "        \n",
    "    return model\n",
    "\n",
    "# subsample train, val, and test datasets for given fraction\n",
    "def subsample_dataset(dataset, fraction):\n",
    "    indices = torch.randperm(len(dataset))[:int(len(dataset) * fraction)]\n",
    "    return torch.utils.data.Subset(dataset, indices)\n",
    "\n",
    "def print_verbose(text):\n",
    "    if VERBOSE:\n",
    "        print(text)\n",
    "\n",
    "def retrieve_trained_model(path, dictionary=False):\n",
    "    model = get_model(num_classes=2, predownload=True)\n",
    "    device = torch.device('cuda') if torch.cuda.is_available() else torch.device('cpu')\n",
    "    model.to(device)\n",
    "    if dictionary:\n",
    "        # Load the checkpoint\n",
    "        checkpoint = torch.load(path)\n",
    "        \n",
    "        # Restore the model state_dict\n",
    "        model.load_state_dict(checkpoint['model_state_dict'])\n",
    "        \n",
    "        # Restore the training history\n",
    "        history = checkpoint['history']\n",
    "    else:\n",
    "        # model = get_model(num_classes=2, predownload=True)\n",
    "        # model.to(device)\n",
    "        model.load_state_dict(torch.load(path))\n",
    "        history = None\n",
    "\n",
    "    return model, history"
   ]
  },
  {
   "cell_type": "markdown",
   "id": "a189d5e0",
   "metadata": {},
   "source": [
    "# Training Data preparation"
   ]
  },
  {
   "cell_type": "code",
   "execution_count": 8,
   "id": "b7830d9b-c7d3-4ec1-b8ad-da18cb4abfc3",
   "metadata": {
    "execution": {
     "iopub.execute_input": "2025-05-30T13:43:18.736786Z",
     "iopub.status.busy": "2025-05-30T13:43:18.736297Z",
     "iopub.status.idle": "2025-05-30T13:43:38.041385Z",
     "shell.execute_reply": "2025-05-30T13:43:38.040864Z",
     "shell.execute_reply.started": "2025-05-30T13:43:18.736759Z"
    },
    "trusted": true
   },
   "outputs": [
    {
     "name": "stdout",
     "output_type": "stream",
     "text": [
      "Creating training data from ['pas-original', 'pas-diagnostic']\n"
     ]
    }
   ],
   "source": [
    "# Prepare combined train splits\n",
    "train_splits = ['pas cpg'] if TRAIN_MODEL=='C' else ['pas-original', 'pas-diagnostic']\n",
    "print(f'Creating training data from {train_splits}')\n",
    "full_train = InflammatoryCellsDataset(TRAIN_DIR, splits=train_splits, transforms=get_transform(True))\n",
    "\n",
    "# 80/20 train/val split\n",
    "train_size = int(0.8 * len(full_train))\n",
    "val_size = len(full_train) - train_size\n",
    "train_ds, val_ds = random_split(full_train, [train_size, val_size])"
   ]
  },
  {
   "cell_type": "code",
   "execution_count": 9,
   "id": "42567275",
   "metadata": {
    "execution": {
     "iopub.execute_input": "2025-05-30T13:43:38.042752Z",
     "iopub.status.busy": "2025-05-30T13:43:38.042447Z",
     "iopub.status.idle": "2025-05-30T13:43:38.815836Z",
     "shell.execute_reply": "2025-05-30T13:43:38.815269Z",
     "shell.execute_reply.started": "2025-05-30T13:43:38.042713Z"
    },
    "trusted": true
   },
   "outputs": [
    {
     "name": "stdout",
     "output_type": "stream",
     "text": [
      "loading model with manual weight input\n"
     ]
    }
   ],
   "source": [
    "# Take subset of available samples depending on computational resources available\n",
    "train_ds = subsample_dataset(train_ds, TRAIN_DATASET_FRAC)  \n",
    "val_ds = subsample_dataset(val_ds, TRAIN_DATASET_FRAC)    \n",
    "\n",
    "# DataLoaders\n",
    "train_loader = DataLoader(train_ds, batch_size=4, shuffle=True, collate_fn=collate_fn)\n",
    "val_loader   = DataLoader(val_ds, batch_size=4, shuffle=False, collate_fn=collate_fn)\n",
    "\n",
    "device = torch.device('cuda') if torch.cuda.is_available() else torch.device('cpu')\n",
    "model = get_model(num_classes=2, predownload=True)\n",
    "model.to(device)\n",
    "\n",
    "params = [p for p in model.parameters() if p.requires_grad]\n",
    "optimizer = torch.optim.SGD(params, lr=0.005, momentum=0.9, weight_decay=0.0005)"
   ]
  },
  {
   "cell_type": "code",
   "execution_count": 10,
   "id": "71d176f1",
   "metadata": {
    "execution": {
     "iopub.execute_input": "2025-05-30T13:43:38.816935Z",
     "iopub.status.busy": "2025-05-30T13:43:38.816651Z",
     "iopub.status.idle": "2025-05-30T13:43:38.822004Z",
     "shell.execute_reply": "2025-05-30T13:43:38.821293Z",
     "shell.execute_reply.started": "2025-05-30T13:43:38.816911Z"
    },
    "trusted": true
   },
   "outputs": [
    {
     "name": "stdout",
     "output_type": "stream",
     "text": [
      "Training on 6322 samples (80% split from: ['pas-original', 'pas-diagnostic']\n",
      "Validating on 1581 samples (20% split from: ['pas-original', 'pas-diagnostic'])\n"
     ]
    }
   ],
   "source": [
    "# Save training dataset distribution for future retrieval\n",
    "training_distribution = {'train' : len(train_ds), 'val' : len(val_ds)}\n",
    "\n",
    "print_verbose(f\"Training on {len(train_ds)} samples (80% split from: {train_splits}\")\n",
    "print_verbose(f\"Validating on {len(val_ds)} samples (20% split from: {train_splits})\")"
   ]
  },
  {
   "cell_type": "markdown",
   "id": "e663ae74",
   "metadata": {},
   "source": [
    "# Model training"
   ]
  },
  {
   "cell_type": "code",
   "execution_count": 10,
   "id": "df1ee3fa-5812-4463-a831-4f3d0a405950",
   "metadata": {
    "execution": {
     "iopub.execute_input": "2025-06-01T12:01:47.250729Z",
     "iopub.status.busy": "2025-06-01T12:01:47.250435Z",
     "iopub.status.idle": "2025-06-01T12:01:47.261415Z",
     "shell.execute_reply": "2025-06-01T12:01:47.260653Z",
     "shell.execute_reply.started": "2025-06-01T12:01:47.250705Z"
    },
    "trusted": true
   },
   "outputs": [],
   "source": [
    "def box_iou(boxes1, boxes2):\n",
    "    \"\"\"\n",
    "    Compute IoU between two sets of boxes.\n",
    "    boxes1, boxes2: [N,4] tensors (xmin, ymin, xmax, ymax)\n",
    "    Returns IoU matrix [N, M]\n",
    "    \"\"\"\n",
    "    area1 = (boxes1[:, 2] - boxes1[:, 0]).clamp(min=0) * (boxes1[:, 3] - boxes1[:, 1]).clamp(min=0)\n",
    "    area2 = (boxes2[:, 2] - boxes2[:, 0]).clamp(min=0) * (boxes2[:, 3] - boxes2[:, 1]).clamp(min=0)\n",
    "\n",
    "    lt = torch.max(boxes1[:, None, :2], boxes2[:, :2])  # [N,M,2]\n",
    "    rb = torch.min(boxes1[:, None, 2:], boxes2[:, 2:])  # [N,M,2]\n",
    "\n",
    "    wh = (rb - lt).clamp(min=0)  # [N,M,2]\n",
    "    inter = wh[:, :, 0] * wh[:, :, 1]  # [N,M]\n",
    "\n",
    "    union = area1[:, None] + area2 - inter\n",
    "    iou = inter / union\n",
    "    return iou\n",
    "\n",
    "def evaluate_precision_recall(outputs, targets, iou_threshold=IOU_THRES):\n",
    "    \"\"\"\n",
    "    Compute TP, FP, FN for a batch of predictions and targets.\n",
    "    outputs: list of dicts with keys ['boxes', 'labels', 'scores']\n",
    "    targets: list of dicts with keys ['boxes', 'labels']\n",
    "    \"\"\"\n",
    "\n",
    "    TP = 0\n",
    "    FP = 0\n",
    "    FN = 0\n",
    "\n",
    "    for preds, targs in zip(outputs, targets):\n",
    "        pred_boxes = preds['boxes']\n",
    "        pred_scores = preds['scores']\n",
    "        pred_labels = preds['labels']\n",
    "\n",
    "        true_boxes = targs['boxes']\n",
    "        true_labels = targs['labels']\n",
    "\n",
    "        if len(pred_boxes) == 0:\n",
    "            # No predictions, all true boxes are false negatives\n",
    "            FN += len(true_boxes)\n",
    "            continue\n",
    "\n",
    "        if len(true_boxes) == 0:\n",
    "            # No ground truth, all preds are false positives\n",
    "            FP += len(pred_boxes)\n",
    "            continue\n",
    "\n",
    "        # Filter predictions by score threshold (optional, e.g., 0.5)\n",
    "        score_thresh = SCORE_THRES   # TWEAKED, WAS 0.5 BEFORE\n",
    "        keep = pred_scores >= score_thresh\n",
    "        pred_boxes = pred_boxes[keep]\n",
    "        pred_labels = pred_labels[keep]\n",
    "\n",
    "        if len(pred_boxes) == 0:\n",
    "            FN += len(true_boxes)\n",
    "            continue\n",
    "\n",
    "        # Compute IoU matrix between preds and true boxes\n",
    "        ious = box_iou(pred_boxes, true_boxes)  # [num_pred, num_true]\n",
    "\n",
    "        # Match preds to true boxes by IoU > threshold and label match\n",
    "        matched_gt = set()\n",
    "        matched_pred = set()\n",
    "\n",
    "        for pred_idx in range(ious.shape[0]):\n",
    "            for gt_idx in range(ious.shape[1]):\n",
    "                if ious[pred_idx, gt_idx] >= iou_threshold and pred_labels[pred_idx] == true_labels[gt_idx]:\n",
    "                    if gt_idx not in matched_gt and pred_idx not in matched_pred:\n",
    "                        matched_gt.add(gt_idx)\n",
    "                        matched_pred.add(pred_idx)\n",
    "\n",
    "        TP += len(matched_pred)\n",
    "        FP += len(pred_boxes) - len(matched_pred)\n",
    "        FN += len(true_boxes) - len(matched_gt)\n",
    "\n",
    "    precision = TP / (TP + FP) if (TP + FP) > 0 else 0.0\n",
    "    recall = TP / (TP + FN) if (TP + FN) > 0 else 0.0\n",
    "    \n",
    "    return precision, recall"
   ]
  },
  {
   "cell_type": "code",
   "execution_count": 12,
   "id": "6a36e0e0-4f8c-4eb2-84ab-c6518e853cd3",
   "metadata": {
    "execution": {
     "iopub.execute_input": "2025-06-01T12:02:08.269223Z",
     "iopub.status.busy": "2025-06-01T12:02:08.268690Z",
     "iopub.status.idle": "2025-06-01T12:02:08.277425Z",
     "shell.execute_reply": "2025-06-01T12:02:08.276765Z",
     "shell.execute_reply.started": "2025-06-01T12:02:08.269198Z"
    },
    "trusted": true
   },
   "outputs": [],
   "source": [
    "def train_model(model, optimizer, train_loader, val_loader, device, num_epochs=10, lr_scheduler=None):\n",
    "    model.to(device)\n",
    "\n",
    "    # Record training history\n",
    "    history = {\n",
    "        \"train_loss\": [],\n",
    "        \"val_precision\": [],\n",
    "        \"val_recall\": []\n",
    "    }\n",
    "\n",
    "    for epoch in range(num_epochs):\n",
    "        print(f\"\\nEpoch {epoch + 1}/{num_epochs}\")\n",
    "        print(\"-\" * 20)\n",
    "\n",
    "        # ---------- Training ----------\n",
    "        model.train()\n",
    "        total_train_loss = 0.0\n",
    "\n",
    "        for images, targets in tqdm(train_loader, desc=\"Training\"):\n",
    "            images = [img.to(device) for img in images]\n",
    "            targets = [{k: v.to(device) for k, v in t.items()} for t in targets]\n",
    "\n",
    "            loss_dict = model(images, targets)\n",
    "            total_loss = sum(loss for loss in loss_dict.values())\n",
    "\n",
    "            optimizer.zero_grad()\n",
    "            total_loss.backward()\n",
    "            optimizer.step()\n",
    "\n",
    "            total_train_loss += total_loss.item()\n",
    "\n",
    "        avg_train_loss = total_train_loss / len(train_loader)\n",
    "        history[\"train_loss\"].append(avg_train_loss)\n",
    "\n",
    "        if lr_scheduler:\n",
    "            lr_scheduler.step()\n",
    "\n",
    "        # ---------- Validation ----------\n",
    "        model.eval()\n",
    "        total_val_loss = 0.0                # <— new\n",
    "        val_precision = 0.0\n",
    "        val_recall = 0.0\n",
    "        num_batches = 0\n",
    "\n",
    "        with torch.no_grad():\n",
    "            for images, targets in tqdm(val_loader, desc=\"Validation\"):\n",
    "                images = [img.to(device) for img in images]\n",
    "                targets = [{k: v.to(device) for k, v in t.items()} for t in targets]\n",
    "\n",
    "                # compute loss on validation:\n",
    "                # loss_dict = model(images, targets)\n",
    "                # val_loss = sum(loss for loss in loss_dict.values())\n",
    "                # total_val_loss += val_loss.item()\n",
    "\n",
    "                # compute precision/recall via inference\n",
    "                outputs = model(images)\n",
    "                precision, recall = evaluate_precision_recall(outputs, targets)\n",
    "                val_precision += precision\n",
    "                val_recall += recall\n",
    "\n",
    "                num_batches += 1\n",
    "\n",
    "        # Average metrics\n",
    "        #avg_val_loss = total_val_loss / len(val_loader)    \n",
    "        avg_precision = val_precision / num_batches\n",
    "        avg_recall = val_recall / num_batches\n",
    "\n",
    "        # Record\n",
    "        #history[\"val_loss\"].append(avg_val_loss)           \n",
    "        history[\"val_precision\"].append(avg_precision)\n",
    "        history[\"val_recall\"].append(avg_recall)\n",
    "\n",
    "        print(f\"Train Loss: {avg_train_loss:.4f} | Precision: {avg_precision:.4f} | Recall: {avg_recall:.4f}\")\n",
    "\n",
    "    return model, history\n"
   ]
  },
  {
   "cell_type": "code",
   "execution_count": null,
   "id": "6f2e164f",
   "metadata": {
    "execution": {
     "iopub.execute_input": "2025-05-30T13:43:50.394367Z",
     "iopub.status.busy": "2025-05-30T13:43:50.394107Z",
     "iopub.status.idle": "2025-05-30T18:42:54.151698Z",
     "shell.execute_reply": "2025-05-30T18:42:54.150911Z",
     "shell.execute_reply.started": "2025-05-30T13:43:50.394347Z"
    },
    "trusted": true
   },
   "outputs": [],
   "source": [
    "lr_scheduler = torch.optim.lr_scheduler.StepLR(optimizer, step_size=5, gamma=0.1)\n",
    "\n",
    "model, history = train_model(\n",
    "    model=model,\n",
    "    optimizer=optimizer,\n",
    "    train_loader=train_loader,\n",
    "    val_loader=val_loader,\n",
    "    device=device,\n",
    "    num_epochs=10,\n",
    "    lr_scheduler=lr_scheduler\n",
    ")"
   ]
  },
  {
   "cell_type": "code",
   "execution_count": 15,
   "id": "f045f8ce-2e4b-428f-a1d3-1dcce085e371",
   "metadata": {
    "execution": {
     "iopub.execute_input": "2025-05-30T18:43:03.464580Z",
     "iopub.status.busy": "2025-05-30T18:43:03.464321Z",
     "iopub.status.idle": "2025-05-30T18:43:03.748695Z",
     "shell.execute_reply": "2025-05-30T18:43:03.747665Z",
     "shell.execute_reply.started": "2025-05-30T18:43:03.464561Z"
    },
    "trusted": true
   },
   "outputs": [],
   "source": [
    "torch.save({\n",
    "    'model_state_dict': model.state_dict(),\n",
    "    'history': history,\n",
    "    'training_distribution' : training_distribution\n",
    "}, \"FasterRCNN_ModelA_frac0.5.pth\")  # CHANGE NAME ACCORDINGLY '.._Modelx_fracy.pth'"
   ]
  },
  {
   "cell_type": "markdown",
   "id": "2a8f327f-9f8d-44d2-b59b-025ddb055a7e",
   "metadata": {},
   "source": [
    "## Save Model automatically to permanent location"
   ]
  },
  {
   "cell_type": "code",
   "execution_count": 2,
   "id": "08064dd4-be3a-436d-ac83-4a6a12cf1b3e",
   "metadata": {
    "execution": {
     "iopub.execute_input": "2025-05-27T19:32:29.193979Z",
     "iopub.status.busy": "2025-05-27T19:32:29.193224Z",
     "iopub.status.idle": "2025-05-27T19:32:31.860412Z",
     "shell.execute_reply": "2025-05-27T19:32:31.859478Z",
     "shell.execute_reply.started": "2025-05-27T19:32:29.193956Z"
    },
    "trusted": true
   },
   "outputs": [],
   "source": [
    "# user_secrets = UserSecretsClient()\n",
    "# secret_value_0 = user_secrets.get_secret(\"luukneervens\")\n",
    "\n",
    "# # Create config directory\n",
    "# os.makedirs(\"/root/.config/kaggle\", exist_ok=True)\n",
    "\n",
    "# # Copy kaggle.json instead of moving\n",
    "# shutil.copy(\"/kaggle/input/kagglekey/kaggle.json\", \"/root/.config/kaggle/kaggle.json\")\n",
    "\n",
    "# # Set permissions\n",
    "# os.chmod(\"/root/.config/kaggle/kaggle.json\", 0o600)\n",
    "\n",
    "# print(\"✅ Kaggle API token is configured.\")\n",
    "\n",
    "# # Define where to save\n",
    "# dataset_name = \"inflammatory-cell-detector\"\n",
    "# username = \"luukneervens\"  # ← change this to your actual Kaggle username!\n",
    "# output_dir = \"saved_model\"\n",
    "# os.makedirs(output_dir, exist_ok=True)\n",
    "\n",
    "# # 1. Save the model\n",
    "# model_path = os.path.join(output_dir, \"FasterRCNN_1.pth\")\n",
    "# torch.save(model.state_dict(), model_path)\n",
    "# print(f\"Model saved to: {model_path}\")\n",
    "\n",
    "# # 2. Create the metadata file (required by Kaggle CLI)\n",
    "# metadata = {\n",
    "#     \"title\": dataset_name,\n",
    "#     \"id\": f\"{username}/{dataset_name}\",\n",
    "#     \"licenses\": [{\"name\": \"CC0-1.0\"}]\n",
    "# }\n",
    "\n",
    "# with open(os.path.join(output_dir, \"dataset-metadata.json\"), \"w\") as f:\n",
    "#     json.dump(metadata, f)\n",
    "\n",
    "# # 3. Upload the dataset using the Kaggle CLI\n",
    "# # NOTE: This only works if you have your Kaggle API token configured in the notebook environment\n",
    "# !kaggle datasets create -p saved_model -u"
   ]
  },
  {
   "cell_type": "code",
   "execution_count": 3,
   "id": "46209751-3320-4e36-b952-cc0cb49cc9b6",
   "metadata": {
    "execution": {
     "iopub.execute_input": "2025-05-28T12:13:50.521719Z",
     "iopub.status.busy": "2025-05-28T12:13:50.521373Z",
     "iopub.status.idle": "2025-05-28T12:13:54.908803Z",
     "shell.execute_reply": "2025-05-28T12:13:54.907953Z",
     "shell.execute_reply.started": "2025-05-28T12:13:50.521700Z"
    },
    "trusted": true
   },
   "outputs": [],
   "source": [
    "# # Setup Kaggle API token from input dataset (uploaded file)\n",
    "# os.makedirs(\"/root/.config/kaggle\", exist_ok=True)\n",
    "# shutil.copy(\"/kaggle/input/kagglekey/kaggle.json\", \"/root/.config/kaggle/kaggle.json\")\n",
    "# os.chmod(\"/root/.config/kaggle/kaggle.json\", 0o600)\n",
    "# print(\"✅ Kaggle API token configured.\")\n",
    "\n",
    "# # Save your model + training history together\n",
    "# output_dir = \"saved_model\"\n",
    "# os.makedirs(output_dir, exist_ok=True)\n",
    "# model_path = os.path.join(output_dir, \"FasterRCNN_ModelC_0.7.pth\")\n",
    "\n",
    "# torch.save({\n",
    "#     'model_state_dict': model.state_dict(),\n",
    "#     'history': history,\n",
    "#     'training_distribution' : training_distribution\n",
    "# }, model_path)\n",
    "\n",
    "# print(f\"Model + history saved to: {model_path}\")\n",
    "\n",
    "# # Create metadata file for Kaggle dataset\n",
    "# dataset_name = \"AIMI-project\"\n",
    "# username = \"luukneervens\"\n",
    "\n",
    "# metadata = {\n",
    "#     \"title\": dataset_name,\n",
    "#     \"id\": f\"{username}/{dataset_name}\",\n",
    "#     \"licenses\": [{\"name\": \"CC0-1.0\"}]\n",
    "# }\n",
    "\n",
    "# with open(os.path.join(output_dir, \"dataset-metadata.json\"), \"w\") as f:\n",
    "#     json.dump(metadata, f)\n",
    "\n",
    "# # Upload or update dataset on Kaggle\n",
    "# !kaggle datasets create -p saved_model -u\n"
   ]
  },
  {
   "cell_type": "markdown",
   "id": "431c18dc",
   "metadata": {},
   "source": [
    "# Model Eval"
   ]
  },
  {
   "cell_type": "code",
   "execution_count": 6,
   "id": "056f3e14-d36e-40b6-86f0-574aedb5e26e",
   "metadata": {
    "execution": {
     "iopub.execute_input": "2025-06-01T12:45:21.940609Z",
     "iopub.status.busy": "2025-06-01T12:45:21.940328Z",
     "iopub.status.idle": "2025-06-01T12:45:21.959144Z",
     "shell.execute_reply": "2025-06-01T12:45:21.958129Z",
     "shell.execute_reply.started": "2025-06-01T12:45:21.940588Z"
    },
    "trusted": true
   },
   "outputs": [],
   "source": [
    "def iou(boxA, boxB):\n",
    "    xA = max(boxA[0], boxB[0])\n",
    "    yA = max(boxA[1], boxB[1])\n",
    "    xB = min(boxA[2], boxB[2])\n",
    "    yB = min(boxA[3], boxB[3])\n",
    "    interW = max(0, xB - xA)\n",
    "    interH = max(0, yB - yA)\n",
    "    interArea = interW * interH\n",
    "    boxAArea = (boxA[2] - boxA[0]) * (boxA[3] - boxA[1])\n",
    "    boxBArea = (boxB[2] - boxB[0]) * (boxB[3] - boxB[1])\n",
    "    unionArea = boxAArea + boxBArea - interArea\n",
    "    return interArea / unionArea if unionArea > 0 else 0\n",
    "\n",
    "# ---------------------------\n",
    "# Image → Tensor transform\n",
    "# ---------------------------\n",
    "to_tensor = transforms.ToTensor()\n",
    "\n",
    "\n",
    "def visualize_and_save(img: Image.Image, gt_boxes, pred_boxes, out_path: str,\n",
    "                       pred_scores=None,\n",
    "                       gt_color=(0,255,0), pred_color=(255,0,0), \n",
    "                       thickness=2):\n",
    "    \"\"\"\n",
    "    Draws gt_boxes and pred_boxes onto img and saves to out_path.\n",
    "    gt_boxes, pred_boxes: lists of [xmin,ymin,xmax,ymax]\n",
    "    pred_scores: list of scores (same length as pred_boxes)\n",
    "    \"\"\"\n",
    "    os.makedirs(os.path.dirname(out_path), exist_ok=True)\n",
    "    draw = ImageDraw.Draw(img)\n",
    "\n",
    "    # Optional: load a default font for labels\n",
    "    try:\n",
    "        font = ImageFont.load_default()\n",
    "    except:\n",
    "        font = None\n",
    "\n",
    "    # Draw GT boxes\n",
    "    for box in gt_boxes:\n",
    "        draw.rectangle(box, outline=gt_color, width=thickness)\n",
    "        if font:\n",
    "            draw.text((box[0], box[1]-10), \"GT\", fill=gt_color, font=font)\n",
    "\n",
    "    # Draw Predicted boxes\n",
    "    for i, box in enumerate(pred_boxes):\n",
    "        draw.rectangle(box, outline=pred_color, width=thickness)\n",
    "        if font:\n",
    "            score_str = f\"PRED: {pred_scores[i]:.2f}\" if pred_scores else \"PRED\" # add pred score\n",
    "            draw.text((box[0], box[3]+2), score_str, fill=pred_color, font=font)\n",
    "\n",
    "    img.save(out_path)\n",
    "\n",
    "\n",
    "def evaluate_on_patches(model, TEST_IMAGES_DIR, TEST_ANNS_DIR, OUTPUT_VIS_DIR, \n",
    "                        iou_threshold=IOU_THRES, score_thresh=SCORE_THRES, \n",
    "                        device=\"cuda\", fraction=0.5, generate_imgs=True):\n",
    "    model.to(device).eval()\n",
    "    \n",
    "    TP = FP = FN = 0\n",
    "    image_paths = glob.glob(os.path.join(Path(TEST_IMAGES_DIR), \"*.png\"))\n",
    "    print(f\"Found {len(image_paths)} patches, testing on random subset of {int(fraction*len(image_paths))} patches\")\n",
    "\n",
    "    print(f'score threshold: {score_thresh}, IoU threshold: {iou_threshold}.')\n",
    "\n",
    "    # take random subset of all test patches\n",
    "    random.seed(42) # to ensure reproducibility\n",
    "    random.shuffle(image_paths)\n",
    "    image_paths = image_paths[:int(len(image_paths) * fraction)]\n",
    "\n",
    "    with torch.no_grad():\n",
    "        for img_path in tqdm(image_paths):\n",
    "            patient_id = '_'.join(Path(img_path).stem.split('_')[:2])\n",
    "            #print(f'processing image: {patient_id}...')\n",
    "\n",
    "            # 1) Load and preprocess\n",
    "            img = Image.open(img_path).convert(\"RGB\")\n",
    "            img_t = to_tensor(img).to(device)            # C×H×W tensor in [0,1]\n",
    "            preds = model([img_t])[0]                   # dict with 'boxes', 'scores', 'labels'\n",
    "\n",
    "            # 2) Filter out low‐confidence preds\n",
    "            keep = preds[\"scores\"] > score_thresh\n",
    "            pred_boxes = preds[\"boxes\"][keep].cpu().tolist()\n",
    "            pred_scores = preds[\"scores\"][keep].cpu().tolist()\n",
    "\n",
    "\n",
    "            # 3) Load GT boxes\n",
    "            stem = Path(img_path).stem\n",
    "            ann_path = Path(TEST_ANNS_DIR) / f\"{stem}.json\"\n",
    "            with open(ann_path, 'r') as f:\n",
    "                gt_data = json.load(f)\n",
    "            if isinstance(gt_data, dict) and \"annotations\" in gt_data:\n",
    "                gt_boxes = [ann[\"bbox\"] for ann in gt_data[\"annotations\"]]\n",
    "            else:\n",
    "                gt_boxes = [ann[\"bbox\"] for ann in gt_data]\n",
    "\n",
    "            # 4) Match preds → GT\n",
    "            matched_gt = set()\n",
    "            for pb in pred_boxes:\n",
    "                best_iou, best_j = 0, -1\n",
    "                for j, gb in enumerate(gt_boxes):\n",
    "                    if j in matched_gt: \n",
    "                        continue\n",
    "                    score = iou(pb, gb)\n",
    "                    if score > best_iou:\n",
    "                        best_iou, best_j = score, j\n",
    "\n",
    "                if best_iou >= iou_threshold:\n",
    "                    TP += 1\n",
    "                    matched_gt.add(best_j)\n",
    "                else:\n",
    "                    FP += 1\n",
    "\n",
    "            # 5) Any unmatched GT → FN\n",
    "            FN += (len(gt_boxes) - len(matched_gt))\n",
    "\n",
    "            if generate_imgs:\n",
    "                out_file = os.path.join(OUTPUT_VIS_DIR, f\"{stem}_vis.png\")\n",
    "                visualize_and_save(\n",
    "                    img.copy(),\n",
    "                    gt_boxes,\n",
    "                    pred_boxes,\n",
    "                    out_file,\n",
    "                    pred_scores=preds[\"scores\"][keep].cpu().tolist()\n",
    "                )\n",
    "\n",
    "\n",
    "\n",
    "    # 6) Compute metrics\n",
    "    precision = TP / (TP + FP) if TP + FP > 0 else 0.0\n",
    "    recall    = TP / (TP + FN) if TP + FN > 0 else 0.0\n",
    "    f1_score  = 2 * (precision * recall) / (precision + recall) \\\n",
    "                    if (precision + recall) else 0.0\n",
    "\n",
    "    print(f\"--- Evaluation over {len(image_paths)} patches ---\")\n",
    "    print(f\"TP: {TP}, FP: {FP}, FN: {FN}\")\n",
    "    print(f\"Precision: {precision:.4f}, Recall: {recall:.4f}\")\n",
    "    print(f\"F1 Score : {f1_score:.4f}\")\n",
    "\n",
    "    return {\"TP\": TP, \"FP\": FP, \"FN\": FN, \"precision\": precision, \"recall\": recall, \"f1\": f1_score}"
   ]
  },
  {
   "cell_type": "code",
   "execution_count": null,
   "id": "6e3517d0",
   "metadata": {},
   "outputs": [],
   "source": [
    "# Retrieve previously trained model\n",
    "model_path = \"/kaggle/input/modelc/pytorch/default/1/FasterRCNN_ModelC_0.7.pth\"\n",
    "model, history = retrieve_trained_model(model_path, dictionary=True)"
   ]
  },
  {
   "cell_type": "code",
   "execution_count": null,
   "id": "f84cf377-7145-4bc3-834d-4749b9fce5ad",
   "metadata": {
    "execution": {
     "iopub.execute_input": "2025-05-30T19:30:11.388236Z",
     "iopub.status.busy": "2025-05-30T19:30:11.387939Z",
     "iopub.status.idle": "2025-05-30T19:34:07.746788Z",
     "shell.execute_reply": "2025-05-30T19:34:07.746228Z",
     "shell.execute_reply.started": "2025-05-30T19:30:11.388214Z"
    },
    "trusted": true
   },
   "outputs": [],
   "source": [
    "# Run evaluation\n",
    "metrics = evaluate_on_patches(\n",
    "    model,\n",
    "    TEST_IMAGES_DIR,\n",
    "    TEST_ANNS_DIR,\n",
    "    OUTPUT_VIS_DIR,\n",
    "    device=device, \n",
    "    fraction=0.5\n",
    ")"
   ]
  },
  {
   "cell_type": "code",
   "execution_count": 5,
   "id": "27f8a1af-50a1-41df-a11c-b819e96eb8dd",
   "metadata": {
    "execution": {
     "iopub.execute_input": "2025-06-01T10:42:25.659278Z",
     "iopub.status.busy": "2025-06-01T10:42:25.658768Z",
     "iopub.status.idle": "2025-06-01T10:42:33.918891Z",
     "shell.execute_reply": "2025-06-01T10:42:33.918330Z",
     "shell.execute_reply.started": "2025-06-01T10:42:25.659255Z"
    },
    "trusted": true
   },
   "outputs": [],
   "source": [
    "# # Zip test detection output images for download\n",
    "# shutil.make_archive(\"detection_visuals_new\", 'zip', \"detection_visuals_new\")"
   ]
  },
  {
   "cell_type": "markdown",
   "id": "94374a26-d178-4823-a901-f3b6de4c0799",
   "metadata": {},
   "source": [
    "# Model B\n",
    "load model A and finetune on pas-cpg"
   ]
  },
  {
   "cell_type": "code",
   "execution_count": null,
   "id": "7faf7814-aff5-4f95-a3ef-bcf3bed846e3",
   "metadata": {
    "execution": {
     "iopub.execute_input": "2025-06-01T08:13:37.398022Z",
     "iopub.status.busy": "2025-06-01T08:13:37.397690Z",
     "iopub.status.idle": "2025-06-01T08:13:46.584789Z",
     "shell.execute_reply": "2025-06-01T08:13:46.583963Z",
     "shell.execute_reply.started": "2025-06-01T08:13:37.397998Z"
    },
    "trusted": true
   },
   "outputs": [
    {
     "name": "stdout",
     "output_type": "stream",
     "text": [
      "loading model with manual weight input\n",
      "Training on 6248 samples (80% split from: pas-cpg)\n",
      "Validating on 1562 samples (20% split from: pas-cpg)\n"
     ]
    }
   ],
   "source": [
    "# Load full PAS-CpG dataset\n",
    "cpg_patches_train = InflammatoryCellsDataset(\n",
    "    root_dir=TRAIN_DIR,             \n",
    "    splits=['pas-cpg'],  # use 'train' split of CpG\n",
    "    transforms=get_transform(True)\n",
    ")\n",
    "\n",
    "train_size = int(0.8 * len(cpg_patches_train))\n",
    "val_size = len(cpg_patches_train) - train_size\n",
    "train_ds, val_ds = random_split(cpg_patches_train, [train_size, val_size])\n",
    "\n",
    "# Take subset of available samples depending on computational resources available\n",
    "frac = 0.7\n",
    "train_ds = subsample_dataset(train_ds, frac)  \n",
    "val_ds = subsample_dataset(val_ds, frac)    \n",
    "\n",
    "# DataLoaders\n",
    "train_loader = DataLoader(\n",
    "    train_ds, \n",
    "    batch_size=4, \n",
    "    shuffle=True, \n",
    "    collate_fn=collate_fn,  \n",
    "    num_workers=0,        \n",
    ")\n",
    "val_loader = DataLoader(\n",
    "    val_ds, \n",
    "    batch_size=4, \n",
    "    shuffle=False, \n",
    "    collate_fn=collate_fn,     \n",
    "    num_workers=0,             \n",
    ")\n",
    "# Load model A\n",
    "modelA_path = \"/kaggle/input/modela_og/pytorch/default/1/FasterRCNN_ModelA_0.5.pth\"\n",
    "modelA, history = retrieve_trained_model(modelA_path)\n",
    "\n",
    "params = [p for p in modelA.parameters() if p.requires_grad]\n",
    "optimizer = torch.optim.SGD(params, lr=0.0001, momentum=0.9, weight_decay=0.0005) # smaller lr so model doesn't unlearn low level features\n",
    "\n",
    "training_distribution = {'train' : len(train_ds), 'val' : len(val_ds)}\n",
    "print_verbose(f\"Training on {len(train_ds)} samples (80% split from: pas-cpg)\")\n",
    "print_verbose(f\"Validating on {len(val_ds)} samples (20% split from: pas-cpg)\")"
   ]
  },
  {
   "cell_type": "code",
   "execution_count": null,
   "id": "64d454cc-a234-4596-87f4-fd288a46b48f",
   "metadata": {
    "execution": {
     "iopub.execute_input": "2025-06-01T08:13:49.650493Z",
     "iopub.status.busy": "2025-06-01T08:13:49.649979Z",
     "iopub.status.idle": "2025-06-01T10:33:26.495286Z",
     "shell.execute_reply": "2025-06-01T10:33:26.494550Z",
     "shell.execute_reply.started": "2025-06-01T08:13:49.650470Z"
    },
    "trusted": true
   },
   "outputs": [],
   "source": [
    "device = torch.device('cuda') if torch.cuda.is_available() else torch.device('cpu')\n",
    "lr_scheduler = torch.optim.lr_scheduler.StepLR(optimizer, step_size=5, gamma=0.1)\n",
    "\n",
    "# Training loop: fine-tune on 5 epochs\n",
    "modelB, historyB = train_model(\n",
    "    model=modelA,\n",
    "    optimizer=optimizer,\n",
    "    train_loader=train_loader,\n",
    "    val_loader=val_loader,\n",
    "    device=device,\n",
    "    num_epochs=5,  # less epochs for finetuning\n",
    "    lr_scheduler=lr_scheduler\n",
    ")"
   ]
  },
  {
   "cell_type": "code",
   "execution_count": 35,
   "id": "11e645f8-be44-4243-99a6-a76640c46a47",
   "metadata": {
    "execution": {
     "iopub.execute_input": "2025-06-01T10:35:06.685280Z",
     "iopub.status.busy": "2025-06-01T10:35:06.684560Z",
     "iopub.status.idle": "2025-06-01T10:35:06.973365Z",
     "shell.execute_reply": "2025-06-01T10:35:06.972247Z",
     "shell.execute_reply.started": "2025-06-01T10:35:06.685255Z"
    },
    "trusted": true
   },
   "outputs": [],
   "source": [
    "torch.save({\n",
    "    'model_state_dict': modelB.state_dict(),\n",
    "    'history': historyB,\n",
    "    'training_distribution': training_distribution\n",
    "}, \"FasterRCNN_modelB_0.7.pth\")"
   ]
  },
  {
   "cell_type": "code",
   "execution_count": null,
   "id": "84aa19ae-8ce7-4248-a799-5aa60ed57c83",
   "metadata": {
    "execution": {
     "iopub.execute_input": "2025-06-01T11:29:14.107418Z",
     "iopub.status.busy": "2025-06-01T11:29:14.107126Z",
     "iopub.status.idle": "2025-06-01T11:32:26.302826Z",
     "shell.execute_reply": "2025-06-01T11:32:26.302032Z",
     "shell.execute_reply.started": "2025-06-01T11:29:14.107399Z"
    },
    "trusted": true
   },
   "outputs": [],
   "source": [
    "# Run evaluation\n",
    "metrics = evaluate_on_patches(\n",
    "    modelB,\n",
    "    TEST_IMAGES_DIR,\n",
    "    TEST_ANNS_DIR,\n",
    "    OUTPUT_VIS_DIR,\n",
    "    device=device, \n",
    "    fraction=0.5,\n",
    "    generate_imgs=False\n",
    ")"
   ]
  },
  {
   "cell_type": "markdown",
   "id": "40e7d242-8ea1-4327-8468-136b5f1f98ac",
   "metadata": {},
   "source": [
    "# Plot training loss and FROC"
   ]
  },
  {
   "cell_type": "code",
   "execution_count": null,
   "id": "99f125b6-ff32-4c5b-967d-8ac5cfd5a4db",
   "metadata": {
    "execution": {
     "iopub.execute_input": "2025-06-01T12:45:27.274982Z",
     "iopub.status.busy": "2025-06-01T12:45:27.274678Z",
     "iopub.status.idle": "2025-06-01T12:45:35.751403Z",
     "shell.execute_reply": "2025-06-01T12:45:35.750717Z",
     "shell.execute_reply.started": "2025-06-01T12:45:27.274958Z"
    },
    "trusted": true
   },
   "outputs": [],
   "source": [
    "modelA, historyA = retrieve_trained_model(modelA_path, dictionary=False)\n",
    "modelB, historyB = retrieve_trained_model(modelB_path, dictionary=True)\n",
    "modelC, historyC = retrieve_trained_model(modelC_path, dictionary=True)"
   ]
  },
  {
   "cell_type": "markdown",
   "id": "7b31c066-948c-484a-a245-37eb3c20c737",
   "metadata": {},
   "source": [
    "## Training loss"
   ]
  },
  {
   "cell_type": "code",
   "execution_count": 19,
   "id": "fb824362-faf2-4dee-8149-063584e94456",
   "metadata": {
    "execution": {
     "iopub.execute_input": "2025-06-01T12:02:47.456413Z",
     "iopub.status.busy": "2025-06-01T12:02:47.456152Z",
     "iopub.status.idle": "2025-06-01T12:02:47.670228Z",
     "shell.execute_reply": "2025-06-01T12:02:47.669489Z",
     "shell.execute_reply.started": "2025-06-01T12:02:47.456396Z"
    },
    "trusted": true
   },
   "outputs": [
    {
     "data": {
      "image/png": "[encoded data removed]",
      "text/plain": [
       "<Figure size 1200x500 with 1 Axes>"
      ]
     },
     "metadata": {},
     "output_type": "display_data"
    }
   ],
   "source": [
    "# plot training history\n",
    "plt.figure(figsize=(12, 5))\n",
    "plt.plot(historyB['train_loss'], label='Train Loss')\n",
    "plt.xlabel('Epoch')\n",
    "plt.ylabel('Loss')\n",
    "plt.title('Model B: Training Loss Over Epochs')\n",
    "#plt.savefig('modelB_loss')\n",
    "plt.show()"
   ]
  },
  {
   "cell_type": "markdown",
   "id": "e3e60e61-735a-4f95-8561-0a96d23e1af3",
   "metadata": {},
   "source": [
    "## FROC"
   ]
  },
  {
   "cell_type": "code",
   "execution_count": null,
   "id": "94a05ad4-edfb-4dea-9c5a-9c496964cb97",
   "metadata": {
    "execution": {
     "iopub.execute_input": "2025-06-01T14:15:54.589083Z",
     "iopub.status.busy": "2025-06-01T14:15:54.588231Z",
     "iopub.status.idle": "2025-06-01T14:51:08.451365Z",
     "shell.execute_reply": "2025-06-01T14:51:08.450653Z",
     "shell.execute_reply.started": "2025-06-01T14:15:54.589040Z"
    },
    "trusted": true
   },
   "outputs": [],
   "source": [
    "score_thresholds = [round(s, 2) for s in np.arange(0.0, 1.01, 0.1)]\n",
    "results = []\n",
    "nr_eval_samples = 2025\n",
    "\n",
    "for thresh in score_thresholds:\n",
    "    res = evaluate_on_patches(\n",
    "        modelC,\n",
    "        TEST_IMAGES_DIR, \n",
    "        TEST_ANNS_DIR, \n",
    "        OUTPUT_VIS_DIR,\n",
    "        score_thresh=thresh, \n",
    "        device=device, \n",
    "        fraction=0.5,\n",
    "        generate_imgs=False  # Don't generate images with pred and GT for FROC computation\n",
    "    )\n",
    "    results.append({\n",
    "        'threshold': thresh,\n",
    "        'TP': res['TP'],\n",
    "        'FP': res['FP'],\n",
    "        'FN': res['FN'],\n",
    "        'precision': res['precision'],\n",
    "        'recall': res['recall'],\n",
    "        'f1': res['f1'],\n",
    "        'sensitivity': res['recall'],\n",
    "        'fp_per_image': res['FP'] / nr_eval_samples\n",
    "    })\n",
    "    torch.cuda.empty_cache()\n",
    "    gc.collect()"
   ]
  },
  {
   "cell_type": "code",
   "execution_count": null,
   "id": "430a99f2-98ba-4ad5-9edc-180c426d4b40",
   "metadata": {
    "execution": {
     "iopub.execute_input": "2025-06-01T14:53:48.963239Z",
     "iopub.status.busy": "2025-06-01T14:53:48.962225Z",
     "iopub.status.idle": "2025-06-01T14:53:48.967979Z",
     "shell.execute_reply": "2025-06-01T14:53:48.966963Z",
     "shell.execute_reply.started": "2025-06-01T14:53:48.963208Z"
    },
    "trusted": true
   },
   "outputs": [],
   "source": [
    "# Save\n",
    "# with open(\"FROC_modelC.pkl\", \"wb\") as f:\n",
    "#     pickle.dump(results, f)\n",
    "\n",
    "# Load later\n",
    "# with open(\"my_dict.pkl\", \"rb\") as f:\n",
    "#     loaded_dict = pickle.load(f)"
   ]
  },
  {
   "cell_type": "code",
   "execution_count": 38,
   "id": "7ff63c6b-e4c5-423a-bbbc-70e03c3926d5",
   "metadata": {
    "execution": {
     "iopub.execute_input": "2025-06-01T14:53:51.652107Z",
     "iopub.status.busy": "2025-06-01T14:53:51.651537Z",
     "iopub.status.idle": "2025-06-01T14:53:52.004945Z",
     "shell.execute_reply": "2025-06-01T14:53:52.004191Z",
     "shell.execute_reply.started": "2025-06-01T14:53:51.652085Z"
    },
    "trusted": true
   },
   "outputs": [
    {
     "data": {
      "image/png": "[encoded data removed]",
      "text/plain": [
       "<Figure size 1000x600 with 1 Axes>"
      ]
     },
     "metadata": {},
     "output_type": "display_data"
    }
   ],
   "source": [
    "sensitivities = [r['sensitivity'] for r in results]\n",
    "fps_per_image = [r['fp_per_image'] for r in results]\n",
    "thresholds = [r['threshold'] for r in results]\n",
    "\n",
    "plt.figure(figsize=(10, 6))\n",
    "plt.plot(fps_per_image, sensitivities, marker='o')\n",
    "\n",
    "# Annotate each point with its corresponding threshold\n",
    "for x, y, t in zip(fps_per_image, sensitivities, thresholds):\n",
    "    plt.text(x + 0.5, y, f\"{t:.1f}\", fontsize=8)\n",
    "\n",
    "plt.xlabel('False Positives per Image')\n",
    "plt.ylabel('Sensitivity (Recall)')\n",
    "plt.title('FROC Curve (Model C)')\n",
    "plt.grid(True)\n",
    "plt.tight_layout()\n",
    "plt.savefig('FROC_ModelC.png')  # Ensure proper extension\n",
    "plt.show()"
   ]
  }
 ],
 "metadata": {
  "kaggle": {
   "accelerator": "nvidiaTeslaT4",
   "dataSources": [
    {
     "datasetId": 7551580,
     "sourceId": 12004264,
     "sourceType": "datasetVersion"
    },
    {
     "datasetId": 7551603,
     "sourceId": 12004294,
     "sourceType": "datasetVersion"
    },
    {
     "isSourceIdPinned": false,
     "modelId": 362210,
     "modelInstanceId": 340963,
     "sourceId": 417985,
     "sourceType": "modelInstanceVersion"
    },
    {
     "isSourceIdPinned": false,
     "modelId": 362276,
     "modelInstanceId": 341028,
     "sourceId": 418060,
     "sourceType": "modelInstanceVersion"
    },
    {
     "isSourceIdPinned": false,
     "modelId": 362770,
     "modelInstanceId": 341482,
     "sourceId": 418704,
     "sourceType": "modelInstanceVersion"
    },
    {
     "isSourceIdPinned": false,
     "modelId": 364235,
     "modelInstanceId": 342937,
     "sourceId": 420775,
     "sourceType": "modelInstanceVersion"
    },
    {
     "isSourceIdPinned": false,
     "modelId": 364258,
     "modelInstanceId": 342970,
     "sourceId": 420818,
     "sourceType": "modelInstanceVersion"
    }
   ],
   "dockerImageVersionId": 31041,
   "isGpuEnabled": true,
   "isInternetEnabled": true,
   "language": "python",
   "sourceType": "notebook"
  },
  "kernelspec": {
   "display_name": "Python 3",
   "language": "python",
   "name": "python3"
  },
  "language_info": {
   "codemirror_mode": {
    "name": "ipython",
    "version": 3
   },
   "file_extension": ".py",
   "mimetype": "text/x-python",
   "name": "python",
   "nbconvert_exporter": "python",
   "pygments_lexer": "ipython3",
   "version": "3.12.0"
  }
 },
 "nbformat": 4,
 "nbformat_minor": 5
}
