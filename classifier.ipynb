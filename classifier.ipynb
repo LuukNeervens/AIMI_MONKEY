{
 "cells": [
  {
   "cell_type": "code",
   "execution_count": 23,
   "id": "901527f7",
   "metadata": {},
   "outputs": [
    {
     "name": "stdout",
     "output_type": "stream",
     "text": [
      "Requirement already satisfied: numpy<2 in /Users/femkeaminetzah/opt/anaconda3/envs/diag/lib/python3.11/site-packages (1.26.4)\n"
     ]
    }
   ],
   "source": [
    "!pip install \"numpy<2\""
   ]
  },
  {
   "cell_type": "code",
   "execution_count": 24,
   "id": "5fde0e20",
   "metadata": {},
   "outputs": [
    {
     "name": "stdout",
     "output_type": "stream",
     "text": [
      "Requirement already satisfied: scikit-learn in /Users/femkeaminetzah/opt/anaconda3/envs/diag/lib/python3.11/site-packages (1.6.1)\n",
      "Requirement already satisfied: numpy>=1.19.5 in /Users/femkeaminetzah/opt/anaconda3/envs/diag/lib/python3.11/site-packages (from scikit-learn) (1.26.4)\n",
      "Requirement already satisfied: scipy>=1.6.0 in /Users/femkeaminetzah/opt/anaconda3/envs/diag/lib/python3.11/site-packages (from scikit-learn) (1.15.2)\n",
      "Requirement already satisfied: joblib>=1.2.0 in /Users/femkeaminetzah/opt/anaconda3/envs/diag/lib/python3.11/site-packages (from scikit-learn) (1.5.0)\n",
      "Requirement already satisfied: threadpoolctl>=3.1.0 in /Users/femkeaminetzah/opt/anaconda3/envs/diag/lib/python3.11/site-packages (from scikit-learn) (3.6.0)\n"
     ]
    }
   ],
   "source": [
    "!pip install scikit-learn"
   ]
  },
  {
   "cell_type": "code",
   "execution_count": null,
   "id": "d38ff4e4",
   "metadata": {},
   "outputs": [],
   "source": [
    "from pathlib import Path\n",
    "import os\n",
    "import tifffile as tiff\n",
    "import matplotlib.pyplot as plt\n",
    "import numpy as np\n",
    "from PIL import Image\n",
    "import xml.etree.ElementTree as ET\n",
    "import re\n",
    "import random\n",
    "import json\n",
    "import random\n",
    "import torch\n",
    "from torchvision import models, transforms, datasets\n",
    "from torch.utils.data import DataLoader, ConcatDataset\n",
    "import torch.nn as nn\n",
    "import torch.optim as optim\n",
    "from tqdm import tqdm\n",
    "import seaborn as sns\n"
   ]
  },
  {
   "cell_type": "code",
   "execution_count": 26,
   "id": "7e490ca4",
   "metadata": {},
   "outputs": [],
   "source": [
    "PATCHES_DIR = Path(\"/Users/femkeaminetzah/Documents/Artificial_Intelligence/Master/Current Courses/AI in Medical Imaging/Project/patches\")\n",
    "\n",
    "# Train directories (pas_original and pas_diagnostic)\n",
    "train_dirs = [\n",
    "    PATCHES_DIR / \"pas-original\",\n",
    "    PATCHES_DIR / \"pas-diagnostic\"\n",
    "]\n",
    "\n",
    "# Test directories (cpg with different cell types)\n",
    "test_dirs = [\n",
    "    PATCHES_DIR / \"cpg\" / \"inflammatory-cells\",\n",
    "    PATCHES_DIR / \"cpg\" / \"monocytes\",\n",
    "    PATCHES_DIR / \"cpg\" / \"lymphocytes\"\n",
    "]\n"
   ]
  },
  {
   "cell_type": "code",
   "execution_count": null,
   "id": "23f1da8f",
   "metadata": {},
   "outputs": [
    {
     "name": "stderr",
     "output_type": "stream",
     "text": [
      "/Users/femkeaminetzah/opt/anaconda3/envs/diag/lib/python3.11/site-packages/torchvision/models/_utils.py:208: UserWarning: The parameter 'pretrained' is deprecated since 0.13 and may be removed in the future, please use 'weights' instead.\n",
      "  warnings.warn(\n",
      "/Users/femkeaminetzah/opt/anaconda3/envs/diag/lib/python3.11/site-packages/torchvision/models/_utils.py:223: UserWarning: Arguments other than a weight enum or `None` for 'weights' are deprecated since 0.13 and may be removed in the future. The current behavior is equivalent to passing `weights=ResNet18_Weights.IMAGENET1K_V1`. You can also use `weights=ResNet18_Weights.DEFAULT` to get the most up-to-date weights.\n",
      "  warnings.warn(msg)\n",
      "100%|██████████| 7/7 [00:21<00:00,  3.13s/it]\n"
     ]
    },
    {
     "name": "stdout",
     "output_type": "stream",
     "text": [
      "Pretraining Epoch 1 done\n"
     ]
    },
    {
     "name": "stderr",
     "output_type": "stream",
     "text": [
      "100%|██████████| 7/7 [00:19<00:00,  2.86s/it]\n"
     ]
    },
    {
     "name": "stdout",
     "output_type": "stream",
     "text": [
      "Pretraining Epoch 2 done\n"
     ]
    },
    {
     "name": "stderr",
     "output_type": "stream",
     "text": [
      "100%|██████████| 7/7 [00:23<00:00,  3.38s/it]\n"
     ]
    },
    {
     "name": "stdout",
     "output_type": "stream",
     "text": [
      "Pretraining Epoch 3 done\n"
     ]
    },
    {
     "name": "stderr",
     "output_type": "stream",
     "text": [
      "100%|██████████| 7/7 [00:20<00:00,  2.97s/it]\n"
     ]
    },
    {
     "name": "stdout",
     "output_type": "stream",
     "text": [
      "Pretraining Epoch 4 done\n"
     ]
    },
    {
     "name": "stderr",
     "output_type": "stream",
     "text": [
      "100%|██████████| 7/7 [00:22<00:00,  3.28s/it]\n"
     ]
    },
    {
     "name": "stdout",
     "output_type": "stream",
     "text": [
      "Pretraining Epoch 5 done\n",
      "[[520   0   0]\n",
      " [  0 390   0]\n",
      " [390   0   0]]\n",
      "                    precision    recall  f1-score   support\n",
      "\n",
      "inflammatory-cells       0.57      1.00      0.73       520\n",
      "         monocytes       1.00      1.00      1.00       390\n",
      "       lymphocytes       0.00      0.00      0.00       390\n",
      "\n",
      "          accuracy                           0.70      1300\n",
      "         macro avg       0.52      0.67      0.58      1300\n",
      "      weighted avg       0.53      0.70      0.59      1300\n",
      "\n"
     ]
    },
    {
     "name": "stderr",
     "output_type": "stream",
     "text": [
      "/Users/femkeaminetzah/opt/anaconda3/envs/diag/lib/python3.11/site-packages/sklearn/metrics/_classification.py:1565: UndefinedMetricWarning: Precision is ill-defined and being set to 0.0 in labels with no predicted samples. Use `zero_division` parameter to control this behavior.\n",
      "  _warn_prf(average, modifier, f\"{metric.capitalize()} is\", len(result))\n",
      "/Users/femkeaminetzah/opt/anaconda3/envs/diag/lib/python3.11/site-packages/sklearn/metrics/_classification.py:1565: UndefinedMetricWarning: Precision is ill-defined and being set to 0.0 in labels with no predicted samples. Use `zero_division` parameter to control this behavior.\n",
      "  _warn_prf(average, modifier, f\"{metric.capitalize()} is\", len(result))\n",
      "/Users/femkeaminetzah/opt/anaconda3/envs/diag/lib/python3.11/site-packages/sklearn/metrics/_classification.py:1565: UndefinedMetricWarning: Precision is ill-defined and being set to 0.0 in labels with no predicted samples. Use `zero_division` parameter to control this behavior.\n",
      "  _warn_prf(average, modifier, f\"{metric.capitalize()} is\", len(result))\n"
     ]
    }
   ],
   "source": [
    "transform = transforms.Compose([\n",
    "    transforms.Resize((224, 224)),\n",
    "    transforms.ToTensor(),\n",
    "    transforms.Normalize([0.485, 0.456, 0.406],\n",
    "                         [0.229, 0.224, 0.225])\n",
    "])\n",
    "\n",
    "# Use ImageFolder, trick it with dummy label folder\n",
    "def wrap_with_label_folder(path, label=\"dummy\"):\n",
    "    temp = path.parent / f\"{path.name}_wrapped\"\n",
    "    temp.mkdir(exist_ok=True)\n",
    "    label_path = temp / label\n",
    "    label_path.mkdir(exist_ok=True)\n",
    "    for img in path.glob(\"*.png\"):\n",
    "        symlink = label_path / img.name\n",
    "        if not symlink.exists():\n",
    "            symlink.symlink_to(img)\n",
    "    return temp\n",
    "\n",
    "wrapped_train_dirs = [wrap_with_label_folder(d) for d in train_dirs]\n",
    "datasets_list = [datasets.ImageFolder(d, transform=transform) for d in wrapped_train_dirs]\n",
    "train_dataset = ConcatDataset(datasets_list)\n",
    "train_loader = DataLoader(train_dataset, batch_size=32, shuffle=True)\n",
    "\n",
    "# Pretrain encoder (ResNet18)\n",
    "device = torch.device(\"cuda\" if torch.cuda.is_available() else \"cpu\")\n",
    "encoder = models.resnet18(pretrained=True)\n",
    "encoder.fc = nn.Identity()  # remove classification head\n",
    "encoder = encoder.to(device)\n",
    "\n",
    "optimizer = optim.Adam(encoder.parameters(), lr=1e-4)\n",
    "\n",
    "# Pretraining loop\n",
    "encoder.train()\n",
    "for epoch in range(5):\n",
    "    for imgs, _ in tqdm(train_loader):\n",
    "        imgs = imgs.to(device)\n",
    "        features = encoder(imgs)\n",
    "        loss = features.norm(dim=1).mean() \n",
    "        optimizer.zero_grad()\n",
    "        loss.backward()\n",
    "        optimizer.step()\n",
    "    print(f\"Pretraining Epoch {epoch+1} done\")\n",
    "\n",
    "encoder.eval()\n",
    "\n",
    "all_features = []\n",
    "all_labels = []\n",
    "\n",
    "class_names = [\"inflammatory-cells\", \"monocytes\", \"lymphocytes\"]\n",
    "\n",
    "for i, test_dir in enumerate(test_dirs):\n",
    "    wrapped_dir = wrap_with_label_folder(test_dir, label=\"class\")\n",
    "    dataset = datasets.ImageFolder(wrapped_dir, transform=transform)\n",
    "    loader = DataLoader(dataset, batch_size=32, shuffle=False)\n",
    "    \n",
    "    with torch.no_grad():\n",
    "        for imgs, _ in loader:\n",
    "            imgs = imgs.to(device)\n",
    "            feats = encoder(imgs).cpu()\n",
    "            all_features.append(feats)\n",
    "            # Assign label i (corresponding to class_names)\n",
    "            all_labels.append(torch.full((feats.size(0),), i, dtype=torch.long))\n",
    "\n",
    "X = torch.cat(all_features).numpy()\n",
    "y = torch.cat(all_labels).numpy()\n",
    "\n",
    "from sklearn.ensemble import RandomForestClassifier\n",
    "from sklearn.metrics import classification_report, confusion_matrix\n",
    "\n",
    "clf = RandomForestClassifier(n_estimators=100, random_state=42)\n",
    "clf.fit(X, y)\n",
    "\n",
    "y_pred = clf.predict(X)\n",
    "\n",
    "cm = confusion_matrix(y, y_pred)\n",
    "\n",
    "# Plot\n",
    "plt.figure(figsize=(6, 5))\n",
    "sns.heatmap(cm, annot=True, fmt='d', cmap='Blues',\n",
    "            xticklabels=class_names, yticklabels=class_names)\n",
    "plt.xlabel('Predicted Labels')\n",
    "plt.ylabel('True Labels')\n",
    "plt.title('Confusion Matrix')\n",
    "plt.tight_layout()\n",
    "plt.show()\n",
    "\n",
    "print(classification_report(y, y_pred, target_names=class_names))\n",
    "\n"
   ]
  },
  {
   "cell_type": "code",
   "execution_count": 28,
   "id": "afd2e9f0",
   "metadata": {},
   "outputs": [
    {
     "name": "stderr",
     "output_type": "stream",
     "text": [
      "/Users/femkeaminetzah/opt/anaconda3/envs/diag/lib/python3.11/site-packages/torchvision/models/_utils.py:208: UserWarning: The parameter 'pretrained' is deprecated since 0.13 and may be removed in the future, please use 'weights' instead.\n",
      "  warnings.warn(\n",
      "/Users/femkeaminetzah/opt/anaconda3/envs/diag/lib/python3.11/site-packages/torchvision/models/_utils.py:223: UserWarning: Arguments other than a weight enum or `None` for 'weights' are deprecated since 0.13 and may be removed in the future. The current behavior is equivalent to passing `weights=ResNet18_Weights.IMAGENET1K_V1`. You can also use `weights=ResNet18_Weights.DEFAULT` to get the most up-to-date weights.\n",
      "  warnings.warn(msg)\n",
      "100%|██████████| 17/17 [00:58<00:00,  3.46s/it]\n"
     ]
    },
    {
     "name": "stdout",
     "output_type": "stream",
     "text": [
      "Epoch 1, Loss: 0.7656\n"
     ]
    },
    {
     "name": "stderr",
     "output_type": "stream",
     "text": [
      "100%|██████████| 17/17 [00:51<00:00,  3.02s/it]\n"
     ]
    },
    {
     "name": "stdout",
     "output_type": "stream",
     "text": [
      "Epoch 2, Loss: 0.2734\n"
     ]
    },
    {
     "name": "stderr",
     "output_type": "stream",
     "text": [
      "100%|██████████| 17/17 [00:51<00:00,  3.00s/it]\n"
     ]
    },
    {
     "name": "stdout",
     "output_type": "stream",
     "text": [
      "Epoch 3, Loss: 0.1251\n"
     ]
    },
    {
     "name": "stderr",
     "output_type": "stream",
     "text": [
      "100%|██████████| 17/17 [00:49<00:00,  2.89s/it]\n"
     ]
    },
    {
     "name": "stdout",
     "output_type": "stream",
     "text": [
      "Epoch 4, Loss: 0.0759\n"
     ]
    },
    {
     "name": "stderr",
     "output_type": "stream",
     "text": [
      "100%|██████████| 17/17 [00:46<00:00,  2.73s/it]\n"
     ]
    },
    {
     "name": "stdout",
     "output_type": "stream",
     "text": [
      "Epoch 5, Loss: 0.0484\n",
      "[[  0 520   0]\n",
      " [  0 390   0]\n",
      " [  0 390   0]]\n",
      "                    precision    recall  f1-score   support\n",
      "\n",
      "inflammatory-cells       0.00      0.00      0.00       520\n",
      "         monocytes       0.30      1.00      0.46       390\n",
      "       lymphocytes       0.00      0.00      0.00       390\n",
      "\n",
      "          accuracy                           0.30      1300\n",
      "         macro avg       0.10      0.33      0.15      1300\n",
      "      weighted avg       0.09      0.30      0.14      1300\n",
      "\n"
     ]
    },
    {
     "name": "stderr",
     "output_type": "stream",
     "text": [
      "/Users/femkeaminetzah/opt/anaconda3/envs/diag/lib/python3.11/site-packages/sklearn/metrics/_classification.py:1565: UndefinedMetricWarning: Precision is ill-defined and being set to 0.0 in labels with no predicted samples. Use `zero_division` parameter to control this behavior.\n",
      "  _warn_prf(average, modifier, f\"{metric.capitalize()} is\", len(result))\n",
      "/Users/femkeaminetzah/opt/anaconda3/envs/diag/lib/python3.11/site-packages/sklearn/metrics/_classification.py:1565: UndefinedMetricWarning: Precision is ill-defined and being set to 0.0 in labels with no predicted samples. Use `zero_division` parameter to control this behavior.\n",
      "  _warn_prf(average, modifier, f\"{metric.capitalize()} is\", len(result))\n",
      "/Users/femkeaminetzah/opt/anaconda3/envs/diag/lib/python3.11/site-packages/sklearn/metrics/_classification.py:1565: UndefinedMetricWarning: Precision is ill-defined and being set to 0.0 in labels with no predicted samples. Use `zero_division` parameter to control this behavior.\n",
      "  _warn_prf(average, modifier, f\"{metric.capitalize()} is\", len(result))\n"
     ]
    }
   ],
   "source": [
    "from pathlib import Path\n",
    "import torch\n",
    "from torch import nn, optim\n",
    "from torch.utils.data import DataLoader\n",
    "from torchvision import transforms, datasets, models\n",
    "from sklearn.metrics import classification_report, confusion_matrix\n",
    "import numpy as np\n",
    "from tqdm import tqdm\n",
    "\n",
    "# --- Configs ---\n",
    "PATCHES_DIR = Path(\"/Users/femkeaminetzah/Documents/Artificial_Intelligence/Master/Current Courses/AI in Medical Imaging/Project/patches\")\n",
    "device = torch.device(\"cuda\" if torch.cuda.is_available() else \"cpu\")\n",
    "class_names = [\"inflammatory-cells\", \"monocytes\", \"lymphocytes\"]\n",
    "\n",
    "# --- Transforms ---\n",
    "transform = transforms.Compose([\n",
    "    transforms.Resize((224, 224)),\n",
    "    transforms.ToTensor(),\n",
    "    transforms.Normalize([0.485, 0.456, 0.406],\n",
    "                         [0.229, 0.224, 0.225])\n",
    "])\n",
    "\n",
    "# --- Wrap images in dummy label folder for ImageFolder compatibility ---\n",
    "def wrap_with_label_folder(path, label=\"dummy\"):\n",
    "    temp = path.parent / f\"{path.name}_wrapped\"\n",
    "    temp.mkdir(exist_ok=True)\n",
    "    label_path = temp / label\n",
    "    label_path.mkdir(exist_ok=True)\n",
    "    for img in path.glob(\"*.png\"):\n",
    "        symlink = label_path / img.name\n",
    "        if not symlink.exists():\n",
    "            symlink.symlink_to(img)\n",
    "    return temp\n",
    "\n",
    "# --- Training data: only inflammatory-cells ---\n",
    "train_dir = wrap_with_label_folder(PATCHES_DIR / \"cpg\" / \"inflammatory-cells\", label=\"inflammatory\")\n",
    "train_dataset = datasets.ImageFolder(train_dir, transform=transform)\n",
    "train_loader = DataLoader(train_dataset, batch_size=32, shuffle=True)\n",
    "\n",
    "# --- Define model: fine-tune entire ResNet18 ---\n",
    "model = models.resnet18(pretrained=True)\n",
    "model.fc = nn.Linear(model.fc.in_features, 1)  # Binary classification: inflammatory vs not\n",
    "model = model.to(device)\n",
    "\n",
    "criterion = nn.BCEWithLogitsLoss()\n",
    "optimizer = optim.Adam(model.parameters(), lr=1e-4)\n",
    "\n",
    "# --- Fine-tuning loop ---\n",
    "model.train()\n",
    "for epoch in range(5):\n",
    "    running_loss = 0.0\n",
    "    for imgs, _ in tqdm(train_loader):\n",
    "        imgs = imgs.to(device)\n",
    "        labels = torch.ones(imgs.size(0), 1).to(device)  # all inflammatory\n",
    "        outputs = model(imgs)\n",
    "        loss = criterion(outputs, labels)\n",
    "        optimizer.zero_grad()\n",
    "        loss.backward()\n",
    "        optimizer.step()\n",
    "        running_loss += loss.item()\n",
    "    print(f\"Epoch {epoch+1}, Loss: {running_loss / len(train_loader):.4f}\")\n",
    "\n",
    "# --- Evaluation on all 3 classes ---\n",
    "model.eval()\n",
    "all_outputs = []\n",
    "all_labels = []\n",
    "\n",
    "for i, test_class in enumerate(class_names):\n",
    "    test_dir = wrap_with_label_folder(PATCHES_DIR / \"cpg\" / test_class, label=\"class\")\n",
    "    dataset = datasets.ImageFolder(test_dir, transform=transform)\n",
    "    loader = DataLoader(dataset, batch_size=32, shuffle=False)\n",
    "\n",
    "    with torch.no_grad():\n",
    "        for imgs, _ in loader:\n",
    "            imgs = imgs.to(device)\n",
    "            outputs = model(imgs)\n",
    "            preds = torch.sigmoid(outputs).squeeze().cpu()\n",
    "            all_outputs.append(preds)\n",
    "            all_labels.append(torch.full((preds.size(0),), i, dtype=torch.long))\n",
    "\n",
    "# Combine predictions and labels\n",
    "all_preds = torch.cat(all_outputs)\n",
    "all_targets = torch.cat(all_labels)\n",
    "\n",
    "# Convert to predicted class: if sigmoid > 0.5 → class 0 (\"inflammatory\"), else 1 (\"non-inflammatory\")\n",
    "predicted_classes = (all_preds > 0.5).long()\n",
    "\n",
    "# Print classification results (interpreting as class 0 vs not)\n",
    "print(confusion_matrix(all_targets, predicted_classes))\n",
    "print(classification_report(all_targets, predicted_classes, target_names=class_names))\n"
   ]
  }
 ],
 "metadata": {
  "kernelspec": {
   "display_name": "diag",
   "language": "python",
   "name": "python3"
  },
  "language_info": {
   "codemirror_mode": {
    "name": "ipython",
    "version": 3
   },
   "file_extension": ".py",
   "mimetype": "text/x-python",
   "name": "python",
   "nbconvert_exporter": "python",
   "pygments_lexer": "ipython3",
   "version": "3.11.11"
  }
 },
 "nbformat": 4,
 "nbformat_minor": 5
}
